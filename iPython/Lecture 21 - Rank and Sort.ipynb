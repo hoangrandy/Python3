{
 "cells": [
  {
   "cell_type": "code",
   "execution_count": 1,
   "metadata": {},
   "outputs": [],
   "source": [
    "import numpy as np\n",
    "from pandas import Series, DataFrame\n",
    "import pandas as pd"
   ]
  },
  {
   "cell_type": "code",
   "execution_count": 2,
   "metadata": {},
   "outputs": [
    {
     "data": {
      "text/plain": [
       "C    0\n",
       "A    1\n",
       "B    2\n",
       "dtype: int64"
      ]
     },
     "execution_count": 2,
     "metadata": {},
     "output_type": "execute_result"
    }
   ],
   "source": [
    "ser1 = Series(range(3),index=['C','A','B'])\n",
    "\n",
    "ser1"
   ]
  },
  {
   "cell_type": "code",
   "execution_count": 5,
   "metadata": {},
   "outputs": [
    {
     "data": {
      "text/plain": [
       "A    1\n",
       "B    2\n",
       "C    0\n",
       "dtype: int64"
      ]
     },
     "execution_count": 5,
     "metadata": {},
     "output_type": "execute_result"
    }
   ],
   "source": [
    "ser1.sort_index()\n",
    "# This will sort the index .sort_index()"
   ]
  },
  {
   "cell_type": "code",
   "execution_count": 15,
   "metadata": {},
   "outputs": [],
   "source": [
    "from numpy.random import randn"
   ]
  },
  {
   "cell_type": "code",
   "execution_count": 16,
   "metadata": {},
   "outputs": [],
   "source": [
    "ser2 = Series(randn(10))"
   ]
  },
  {
   "cell_type": "code",
   "execution_count": 17,
   "metadata": {},
   "outputs": [
    {
     "data": {
      "text/plain": [
       "0   -0.177092\n",
       "1    0.020331\n",
       "2    0.380050\n",
       "3   -0.818734\n",
       "4   -1.424500\n",
       "5   -0.081133\n",
       "6   -1.975023\n",
       "7   -0.637960\n",
       "8    0.345466\n",
       "9    0.309516\n",
       "dtype: float64"
      ]
     },
     "execution_count": 17,
     "metadata": {},
     "output_type": "execute_result"
    }
   ],
   "source": [
    "ser2"
   ]
  },
  {
   "cell_type": "code",
   "execution_count": 21,
   "metadata": {},
   "outputs": [
    {
     "data": {
      "text/plain": [
       "6   -1.975023\n",
       "4   -1.424500\n",
       "3   -0.818734\n",
       "7   -0.637960\n",
       "0   -0.177092\n",
       "5   -0.081133\n",
       "1    0.020331\n",
       "9    0.309516\n",
       "8    0.345466\n",
       "2    0.380050\n",
       "dtype: float64"
      ]
     },
     "execution_count": 21,
     "metadata": {},
     "output_type": "execute_result"
    }
   ],
   "source": [
    "ser2.sort_values()\n",
    "# Use .sort_values() to order the values"
   ]
  },
  {
   "cell_type": "code",
   "execution_count": 23,
   "metadata": {},
   "outputs": [
    {
     "data": {
      "text/plain": [
       "0     5.0\n",
       "1     7.0\n",
       "2    10.0\n",
       "3     3.0\n",
       "4     2.0\n",
       "5     6.0\n",
       "6     1.0\n",
       "7     4.0\n",
       "8     9.0\n",
       "9     8.0\n",
       "dtype: float64"
      ]
     },
     "execution_count": 23,
     "metadata": {},
     "output_type": "execute_result"
    }
   ],
   "source": [
    "ser2.rank()\n",
    "#.rank() will show the ranking value"
   ]
  },
  {
   "cell_type": "code",
   "execution_count": 24,
   "metadata": {},
   "outputs": [
    {
     "data": {
      "text/plain": [
       "0   -1.007960\n",
       "1    0.361150\n",
       "2    0.325566\n",
       "3   -1.574078\n",
       "4    0.765695\n",
       "5   -0.148690\n",
       "6    1.283376\n",
       "7   -2.103576\n",
       "8    0.001871\n",
       "9    0.212138\n",
       "dtype: float64"
      ]
     },
     "execution_count": 24,
     "metadata": {},
     "output_type": "execute_result"
    }
   ],
   "source": [
    "ser3 = Series(randn(10))\n",
    "\n",
    "ser3"
   ]
  },
  {
   "cell_type": "code",
   "execution_count": 25,
   "metadata": {},
   "outputs": [
    {
     "data": {
      "text/plain": [
       "0     3.0\n",
       "1     8.0\n",
       "2     7.0\n",
       "3     2.0\n",
       "4     9.0\n",
       "5     4.0\n",
       "6    10.0\n",
       "7     1.0\n",
       "8     5.0\n",
       "9     6.0\n",
       "dtype: float64"
      ]
     },
     "execution_count": 25,
     "metadata": {},
     "output_type": "execute_result"
    }
   ],
   "source": [
    "ser3.rank()"
   ]
  },
  {
   "cell_type": "code",
   "execution_count": 30,
   "metadata": {},
   "outputs": [
    {
     "data": {
      "text/plain": [
       "7   -2.103576\n",
       "3   -1.574078\n",
       "0   -1.007960\n",
       "5   -0.148690\n",
       "8    0.001871\n",
       "9    0.212138\n",
       "2    0.325566\n",
       "1    0.361150\n",
       "4    0.765695\n",
       "6    1.283376\n",
       "dtype: float64"
      ]
     },
     "execution_count": 30,
     "metadata": {},
     "output_type": "execute_result"
    }
   ],
   "source": [
    "ser3.sort_values()\n"
   ]
  },
  {
   "cell_type": "code",
   "execution_count": 31,
   "metadata": {},
   "outputs": [
    {
     "data": {
      "text/plain": [
       "0     3.0\n",
       "1     8.0\n",
       "2     7.0\n",
       "3     2.0\n",
       "4     9.0\n",
       "5     4.0\n",
       "6    10.0\n",
       "7     1.0\n",
       "8     5.0\n",
       "9     6.0\n",
       "dtype: float64"
      ]
     },
     "execution_count": 31,
     "metadata": {},
     "output_type": "execute_result"
    }
   ],
   "source": [
    "ser3.rank()"
   ]
  },
  {
   "cell_type": "code",
   "execution_count": null,
   "metadata": {},
   "outputs": [],
   "source": []
  }
 ],
 "metadata": {
  "kernelspec": {
   "display_name": "Python 3",
   "language": "python",
   "name": "python3"
  },
  "language_info": {
   "codemirror_mode": {
    "name": "ipython",
    "version": 3
   },
   "file_extension": ".py",
   "mimetype": "text/x-python",
   "name": "python",
   "nbconvert_exporter": "python",
   "pygments_lexer": "ipython3",
   "version": "3.6.5"
  }
 },
 "nbformat": 4,
 "nbformat_minor": 2
}
